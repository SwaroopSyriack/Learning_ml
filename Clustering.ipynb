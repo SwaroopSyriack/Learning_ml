{
 "cells": [
  {
   "cell_type": "code",
   "execution_count": 95,
   "id": "7e82f475-b555-4365-b09f-020b0f23d712",
   "metadata": {},
   "outputs": [],
   "source": [
    "import pandas as pd\n",
    "import numpy as np\n",
    "import matplotlib.pyplot as plt\n",
    "import seaborn as sns\n",
    "from sklearn.cluster import KMeans\n",
    "from sklearn.preprocessing import StandardScaler\n"
   ]
  },
  {
   "cell_type": "code",
   "execution_count": 96,
   "id": "727a3dcf-f98a-4b3f-9cd0-21ec07c3eef5",
   "metadata": {},
   "outputs": [],
   "source": [
    "df = pd.read_csv(\"segmentation data.csv\")"
   ]
  },
  {
   "cell_type": "code",
   "execution_count": null,
   "id": "0da5f0b4-5e44-44eb-bdd9-bc0f4078649c",
   "metadata": {},
   "outputs": [],
   "source": []
  },
  {
   "cell_type": "code",
   "execution_count": 97,
   "id": "3e634ce4-75be-482c-93e2-a5a7dd9514d8",
   "metadata": {},
   "outputs": [
    {
     "data": {
      "text/html": [
       "<div>\n",
       "<style scoped>\n",
       "    .dataframe tbody tr th:only-of-type {\n",
       "        vertical-align: middle;\n",
       "    }\n",
       "\n",
       "    .dataframe tbody tr th {\n",
       "        vertical-align: top;\n",
       "    }\n",
       "\n",
       "    .dataframe thead th {\n",
       "        text-align: right;\n",
       "    }\n",
       "</style>\n",
       "<table border=\"1\" class=\"dataframe\">\n",
       "  <thead>\n",
       "    <tr style=\"text-align: right;\">\n",
       "      <th></th>\n",
       "      <th>count</th>\n",
       "      <th>mean</th>\n",
       "      <th>std</th>\n",
       "      <th>min</th>\n",
       "      <th>25%</th>\n",
       "      <th>50%</th>\n",
       "      <th>75%</th>\n",
       "      <th>max</th>\n",
       "    </tr>\n",
       "  </thead>\n",
       "  <tbody>\n",
       "    <tr>\n",
       "      <th>ID</th>\n",
       "      <td>2000.0</td>\n",
       "      <td>1.000010e+08</td>\n",
       "      <td>577.494589</td>\n",
       "      <td>1.000000e+08</td>\n",
       "      <td>1.000005e+08</td>\n",
       "      <td>1.000010e+08</td>\n",
       "      <td>1.000015e+08</td>\n",
       "      <td>100002000.0</td>\n",
       "    </tr>\n",
       "    <tr>\n",
       "      <th>Sex</th>\n",
       "      <td>2000.0</td>\n",
       "      <td>4.570000e-01</td>\n",
       "      <td>0.498272</td>\n",
       "      <td>0.000000e+00</td>\n",
       "      <td>0.000000e+00</td>\n",
       "      <td>0.000000e+00</td>\n",
       "      <td>1.000000e+00</td>\n",
       "      <td>1.0</td>\n",
       "    </tr>\n",
       "    <tr>\n",
       "      <th>Marital status</th>\n",
       "      <td>2000.0</td>\n",
       "      <td>4.965000e-01</td>\n",
       "      <td>0.500113</td>\n",
       "      <td>0.000000e+00</td>\n",
       "      <td>0.000000e+00</td>\n",
       "      <td>0.000000e+00</td>\n",
       "      <td>1.000000e+00</td>\n",
       "      <td>1.0</td>\n",
       "    </tr>\n",
       "    <tr>\n",
       "      <th>Age</th>\n",
       "      <td>2000.0</td>\n",
       "      <td>3.590900e+01</td>\n",
       "      <td>11.719402</td>\n",
       "      <td>1.800000e+01</td>\n",
       "      <td>2.700000e+01</td>\n",
       "      <td>3.300000e+01</td>\n",
       "      <td>4.200000e+01</td>\n",
       "      <td>76.0</td>\n",
       "    </tr>\n",
       "    <tr>\n",
       "      <th>Education</th>\n",
       "      <td>2000.0</td>\n",
       "      <td>1.038000e+00</td>\n",
       "      <td>0.599780</td>\n",
       "      <td>0.000000e+00</td>\n",
       "      <td>1.000000e+00</td>\n",
       "      <td>1.000000e+00</td>\n",
       "      <td>1.000000e+00</td>\n",
       "      <td>3.0</td>\n",
       "    </tr>\n",
       "    <tr>\n",
       "      <th>Income</th>\n",
       "      <td>2000.0</td>\n",
       "      <td>1.209544e+05</td>\n",
       "      <td>38108.824679</td>\n",
       "      <td>3.583200e+04</td>\n",
       "      <td>9.766325e+04</td>\n",
       "      <td>1.155485e+05</td>\n",
       "      <td>1.380722e+05</td>\n",
       "      <td>309364.0</td>\n",
       "    </tr>\n",
       "    <tr>\n",
       "      <th>Occupation</th>\n",
       "      <td>2000.0</td>\n",
       "      <td>8.105000e-01</td>\n",
       "      <td>0.638587</td>\n",
       "      <td>0.000000e+00</td>\n",
       "      <td>0.000000e+00</td>\n",
       "      <td>1.000000e+00</td>\n",
       "      <td>1.000000e+00</td>\n",
       "      <td>2.0</td>\n",
       "    </tr>\n",
       "    <tr>\n",
       "      <th>Settlement size</th>\n",
       "      <td>2000.0</td>\n",
       "      <td>7.390000e-01</td>\n",
       "      <td>0.812533</td>\n",
       "      <td>0.000000e+00</td>\n",
       "      <td>0.000000e+00</td>\n",
       "      <td>1.000000e+00</td>\n",
       "      <td>1.000000e+00</td>\n",
       "      <td>2.0</td>\n",
       "    </tr>\n",
       "    <tr>\n",
       "      <th>Unnamed: 8</th>\n",
       "      <td>0.0</td>\n",
       "      <td>NaN</td>\n",
       "      <td>NaN</td>\n",
       "      <td>NaN</td>\n",
       "      <td>NaN</td>\n",
       "      <td>NaN</td>\n",
       "      <td>NaN</td>\n",
       "      <td>NaN</td>\n",
       "    </tr>\n",
       "    <tr>\n",
       "      <th>Unnamed: 11</th>\n",
       "      <td>4.0</td>\n",
       "      <td>3.540710e+01</td>\n",
       "      <td>28.937574</td>\n",
       "      <td>1.171940e+01</td>\n",
       "      <td>1.642985e+01</td>\n",
       "      <td>2.695450e+01</td>\n",
       "      <td>4.593175e+01</td>\n",
       "      <td>76.0</td>\n",
       "    </tr>\n",
       "    <tr>\n",
       "      <th>Unnamed: 13</th>\n",
       "      <td>2001.0</td>\n",
       "      <td>3.084665e-01</td>\n",
       "      <td>0.202482</td>\n",
       "      <td>-3.103448e-01</td>\n",
       "      <td>1.551724e-01</td>\n",
       "      <td>2.586207e-01</td>\n",
       "      <td>4.137931e-01</td>\n",
       "      <td>1.0</td>\n",
       "    </tr>\n",
       "  </tbody>\n",
       "</table>\n",
       "</div>"
      ],
      "text/plain": [
       "                  count          mean           std           min  \\\n",
       "ID               2000.0  1.000010e+08    577.494589  1.000000e+08   \n",
       "Sex              2000.0  4.570000e-01      0.498272  0.000000e+00   \n",
       "Marital status   2000.0  4.965000e-01      0.500113  0.000000e+00   \n",
       "Age              2000.0  3.590900e+01     11.719402  1.800000e+01   \n",
       "Education        2000.0  1.038000e+00      0.599780  0.000000e+00   \n",
       "Income           2000.0  1.209544e+05  38108.824679  3.583200e+04   \n",
       "Occupation       2000.0  8.105000e-01      0.638587  0.000000e+00   \n",
       "Settlement size  2000.0  7.390000e-01      0.812533  0.000000e+00   \n",
       "Unnamed: 8          0.0           NaN           NaN           NaN   \n",
       "Unnamed: 11         4.0  3.540710e+01     28.937574  1.171940e+01   \n",
       "Unnamed: 13      2001.0  3.084665e-01      0.202482 -3.103448e-01   \n",
       "\n",
       "                          25%           50%           75%          max  \n",
       "ID               1.000005e+08  1.000010e+08  1.000015e+08  100002000.0  \n",
       "Sex              0.000000e+00  0.000000e+00  1.000000e+00          1.0  \n",
       "Marital status   0.000000e+00  0.000000e+00  1.000000e+00          1.0  \n",
       "Age              2.700000e+01  3.300000e+01  4.200000e+01         76.0  \n",
       "Education        1.000000e+00  1.000000e+00  1.000000e+00          3.0  \n",
       "Income           9.766325e+04  1.155485e+05  1.380722e+05     309364.0  \n",
       "Occupation       0.000000e+00  1.000000e+00  1.000000e+00          2.0  \n",
       "Settlement size  0.000000e+00  1.000000e+00  1.000000e+00          2.0  \n",
       "Unnamed: 8                NaN           NaN           NaN          NaN  \n",
       "Unnamed: 11      1.642985e+01  2.695450e+01  4.593175e+01         76.0  \n",
       "Unnamed: 13      1.551724e-01  2.586207e-01  4.137931e-01          1.0  "
      ]
     },
     "execution_count": 97,
     "metadata": {},
     "output_type": "execute_result"
    }
   ],
   "source": [
    "df.describe().T"
   ]
  },
  {
   "cell_type": "code",
   "execution_count": 98,
   "id": "5ffd9766-788f-415d-bbfe-993e4c249718",
   "metadata": {
    "scrolled": true
   },
   "outputs": [
    {
     "data": {
      "text/plain": [
       "ID                   0.497512\n",
       "Sex                  0.497512\n",
       "Marital status       0.497512\n",
       "Age                  0.497512\n",
       "Education            0.497512\n",
       "Income               0.497512\n",
       "Occupation           0.497512\n",
       "Settlement size      0.497512\n",
       "Unnamed: 8         100.000000\n",
       "Unnamed: 9          99.950249\n",
       "Unnamed: 10          0.248756\n",
       "Unnamed: 11         99.800995\n",
       "Unnamed: 12         99.950249\n",
       "Unnamed: 13          0.447761\n",
       "dtype: float64"
      ]
     },
     "execution_count": 98,
     "metadata": {},
     "output_type": "execute_result"
    }
   ],
   "source": [
    "(df.isnull().sum()*100/len(df))"
   ]
  },
  {
   "cell_type": "code",
   "execution_count": 99,
   "id": "025bcc49-172b-45d9-b884-fc943c35bd0d",
   "metadata": {},
   "outputs": [],
   "source": [
    "df = df.drop(['Unnamed: 11','Unnamed: 12','Unnamed: 9','Unnamed: 8'],axis = 1)"
   ]
  },
  {
   "cell_type": "code",
   "execution_count": 100,
   "id": "266d1a06-b035-4674-8a18-39e5d479a0a6",
   "metadata": {},
   "outputs": [
    {
     "data": {
      "text/html": [
       "<div>\n",
       "<style scoped>\n",
       "    .dataframe tbody tr th:only-of-type {\n",
       "        vertical-align: middle;\n",
       "    }\n",
       "\n",
       "    .dataframe tbody tr th {\n",
       "        vertical-align: top;\n",
       "    }\n",
       "\n",
       "    .dataframe thead th {\n",
       "        text-align: right;\n",
       "    }\n",
       "</style>\n",
       "<table border=\"1\" class=\"dataframe\">\n",
       "  <thead>\n",
       "    <tr style=\"text-align: right;\">\n",
       "      <th></th>\n",
       "      <th>ID</th>\n",
       "      <th>Sex</th>\n",
       "      <th>Marital status</th>\n",
       "      <th>Age</th>\n",
       "      <th>Education</th>\n",
       "      <th>Income</th>\n",
       "      <th>Occupation</th>\n",
       "      <th>Settlement size</th>\n",
       "      <th>Unnamed: 10</th>\n",
       "      <th>Unnamed: 13</th>\n",
       "    </tr>\n",
       "  </thead>\n",
       "  <tbody>\n",
       "    <tr>\n",
       "      <th>0</th>\n",
       "      <td>100000001.0</td>\n",
       "      <td>0.0</td>\n",
       "      <td>0.0</td>\n",
       "      <td>67.0</td>\n",
       "      <td>2.0</td>\n",
       "      <td>124670.0</td>\n",
       "      <td>1.0</td>\n",
       "      <td>2.0</td>\n",
       "      <td>NaN</td>\n",
       "      <td>NaN</td>\n",
       "    </tr>\n",
       "    <tr>\n",
       "      <th>1</th>\n",
       "      <td>100000002.0</td>\n",
       "      <td>1.0</td>\n",
       "      <td>1.0</td>\n",
       "      <td>22.0</td>\n",
       "      <td>1.0</td>\n",
       "      <td>150773.0</td>\n",
       "      <td>1.0</td>\n",
       "      <td>2.0</td>\n",
       "      <td>NaN</td>\n",
       "      <td>NaN</td>\n",
       "    </tr>\n",
       "    <tr>\n",
       "      <th>2</th>\n",
       "      <td>100000003.0</td>\n",
       "      <td>0.0</td>\n",
       "      <td>0.0</td>\n",
       "      <td>49.0</td>\n",
       "      <td>1.0</td>\n",
       "      <td>89210.0</td>\n",
       "      <td>0.0</td>\n",
       "      <td>0.0</td>\n",
       "      <td>MIN</td>\n",
       "      <td>NaN</td>\n",
       "    </tr>\n",
       "    <tr>\n",
       "      <th>3</th>\n",
       "      <td>100000004.0</td>\n",
       "      <td>0.0</td>\n",
       "      <td>0.0</td>\n",
       "      <td>45.0</td>\n",
       "      <td>1.0</td>\n",
       "      <td>171565.0</td>\n",
       "      <td>1.0</td>\n",
       "      <td>1.0</td>\n",
       "      <td>MAX</td>\n",
       "      <td>NaN</td>\n",
       "    </tr>\n",
       "    <tr>\n",
       "      <th>4</th>\n",
       "      <td>100000005.0</td>\n",
       "      <td>0.0</td>\n",
       "      <td>0.0</td>\n",
       "      <td>53.0</td>\n",
       "      <td>1.0</td>\n",
       "      <td>149031.0</td>\n",
       "      <td>1.0</td>\n",
       "      <td>1.0</td>\n",
       "      <td>MEAN</td>\n",
       "      <td>NaN</td>\n",
       "    </tr>\n",
       "    <tr>\n",
       "      <th>...</th>\n",
       "      <td>...</td>\n",
       "      <td>...</td>\n",
       "      <td>...</td>\n",
       "      <td>...</td>\n",
       "      <td>...</td>\n",
       "      <td>...</td>\n",
       "      <td>...</td>\n",
       "      <td>...</td>\n",
       "      <td>...</td>\n",
       "      <td>...</td>\n",
       "    </tr>\n",
       "    <tr>\n",
       "      <th>2005</th>\n",
       "      <td>NaN</td>\n",
       "      <td>NaN</td>\n",
       "      <td>NaN</td>\n",
       "      <td>NaN</td>\n",
       "      <td>NaN</td>\n",
       "      <td>NaN</td>\n",
       "      <td>NaN</td>\n",
       "      <td>NaN</td>\n",
       "      <td>-0.76019235</td>\n",
       "      <td>0.155172</td>\n",
       "    </tr>\n",
       "    <tr>\n",
       "      <th>2006</th>\n",
       "      <td>NaN</td>\n",
       "      <td>NaN</td>\n",
       "      <td>NaN</td>\n",
       "      <td>NaN</td>\n",
       "      <td>NaN</td>\n",
       "      <td>NaN</td>\n",
       "      <td>NaN</td>\n",
       "      <td>NaN</td>\n",
       "      <td>-0.418878016</td>\n",
       "      <td>0.224138</td>\n",
       "    </tr>\n",
       "    <tr>\n",
       "      <th>2007</th>\n",
       "      <td>NaN</td>\n",
       "      <td>NaN</td>\n",
       "      <td>NaN</td>\n",
       "      <td>NaN</td>\n",
       "      <td>NaN</td>\n",
       "      <td>NaN</td>\n",
       "      <td>NaN</td>\n",
       "      <td>NaN</td>\n",
       "      <td>-1.0161781</td>\n",
       "      <td>0.103448</td>\n",
       "    </tr>\n",
       "    <tr>\n",
       "      <th>2008</th>\n",
       "      <td>NaN</td>\n",
       "      <td>NaN</td>\n",
       "      <td>NaN</td>\n",
       "      <td>NaN</td>\n",
       "      <td>NaN</td>\n",
       "      <td>NaN</td>\n",
       "      <td>NaN</td>\n",
       "      <td>NaN</td>\n",
       "      <td>-0.930849516</td>\n",
       "      <td>0.120690</td>\n",
       "    </tr>\n",
       "    <tr>\n",
       "      <th>2009</th>\n",
       "      <td>NaN</td>\n",
       "      <td>NaN</td>\n",
       "      <td>NaN</td>\n",
       "      <td>NaN</td>\n",
       "      <td>NaN</td>\n",
       "      <td>NaN</td>\n",
       "      <td>NaN</td>\n",
       "      <td>NaN</td>\n",
       "      <td>-3.064064102</td>\n",
       "      <td>-0.310345</td>\n",
       "    </tr>\n",
       "  </tbody>\n",
       "</table>\n",
       "<p>2010 rows × 10 columns</p>\n",
       "</div>"
      ],
      "text/plain": [
       "               ID  Sex  Marital status   Age  Education    Income  Occupation  \\\n",
       "0     100000001.0  0.0             0.0  67.0        2.0  124670.0         1.0   \n",
       "1     100000002.0  1.0             1.0  22.0        1.0  150773.0         1.0   \n",
       "2     100000003.0  0.0             0.0  49.0        1.0   89210.0         0.0   \n",
       "3     100000004.0  0.0             0.0  45.0        1.0  171565.0         1.0   \n",
       "4     100000005.0  0.0             0.0  53.0        1.0  149031.0         1.0   \n",
       "...           ...  ...             ...   ...        ...       ...         ...   \n",
       "2005          NaN  NaN             NaN   NaN        NaN       NaN         NaN   \n",
       "2006          NaN  NaN             NaN   NaN        NaN       NaN         NaN   \n",
       "2007          NaN  NaN             NaN   NaN        NaN       NaN         NaN   \n",
       "2008          NaN  NaN             NaN   NaN        NaN       NaN         NaN   \n",
       "2009          NaN  NaN             NaN   NaN        NaN       NaN         NaN   \n",
       "\n",
       "      Settlement size   Unnamed: 10  Unnamed: 13  \n",
       "0                 2.0           NaN          NaN  \n",
       "1                 2.0           NaN          NaN  \n",
       "2                 0.0           MIN          NaN  \n",
       "3                 1.0           MAX          NaN  \n",
       "4                 1.0          MEAN          NaN  \n",
       "...               ...           ...          ...  \n",
       "2005              NaN   -0.76019235     0.155172  \n",
       "2006              NaN  -0.418878016     0.224138  \n",
       "2007              NaN    -1.0161781     0.103448  \n",
       "2008              NaN  -0.930849516     0.120690  \n",
       "2009              NaN  -3.064064102    -0.310345  \n",
       "\n",
       "[2010 rows x 10 columns]"
      ]
     },
     "execution_count": 100,
     "metadata": {},
     "output_type": "execute_result"
    }
   ],
   "source": [
    "df"
   ]
  },
  {
   "cell_type": "code",
   "execution_count": 101,
   "id": "e3f872af-2297-4f7b-acaa-41ca882a3ca9",
   "metadata": {},
   "outputs": [
    {
     "name": "stdout",
     "output_type": "stream",
     "text": [
      "<class 'pandas.core.frame.DataFrame'>\n",
      "RangeIndex: 2010 entries, 0 to 2009\n",
      "Data columns (total 10 columns):\n",
      " #   Column           Non-Null Count  Dtype  \n",
      "---  ------           --------------  -----  \n",
      " 0   ID               2000 non-null   float64\n",
      " 1   Sex              2000 non-null   float64\n",
      " 2   Marital status   2000 non-null   float64\n",
      " 3   Age              2000 non-null   float64\n",
      " 4   Education        2000 non-null   float64\n",
      " 5   Income           2000 non-null   float64\n",
      " 6   Occupation       2000 non-null   float64\n",
      " 7   Settlement size  2000 non-null   float64\n",
      " 8   Unnamed: 10      2005 non-null   object \n",
      " 9   Unnamed: 13      2001 non-null   float64\n",
      "dtypes: float64(9), object(1)\n",
      "memory usage: 157.2+ KB\n"
     ]
    }
   ],
   "source": [
    "df.info()"
   ]
  },
  {
   "cell_type": "code",
   "execution_count": 102,
   "id": "1bdba2e4-44f3-4e9f-b3af-f007a3f6428f",
   "metadata": {},
   "outputs": [
    {
     "data": {
      "text/plain": [
       "ID                 10\n",
       "Sex                10\n",
       "Marital status     10\n",
       "Age                10\n",
       "Education          10\n",
       "Income             10\n",
       "Occupation         10\n",
       "Settlement size    10\n",
       "Unnamed: 10         5\n",
       "Unnamed: 13         9\n",
       "dtype: int64"
      ]
     },
     "execution_count": 102,
     "metadata": {},
     "output_type": "execute_result"
    }
   ],
   "source": [
    "df.isnull().sum()"
   ]
  },
  {
   "cell_type": "code",
   "execution_count": 103,
   "id": "6f8279c6-cccd-4e81-8df2-7d15a1ecceb3",
   "metadata": {},
   "outputs": [],
   "source": [
    "for i in df.columns:\n",
    "    df.dropna(subset = i ,inplace = True)"
   ]
  },
  {
   "cell_type": "code",
   "execution_count": 104,
   "id": "015ba466-13cd-47c9-ae13-d46284242447",
   "metadata": {},
   "outputs": [
    {
     "data": {
      "text/plain": [
       "ID                 0\n",
       "Sex                0\n",
       "Marital status     0\n",
       "Age                0\n",
       "Education          0\n",
       "Income             0\n",
       "Occupation         0\n",
       "Settlement size    0\n",
       "Unnamed: 10        0\n",
       "Unnamed: 13        0\n",
       "dtype: int64"
      ]
     },
     "execution_count": 104,
     "metadata": {},
     "output_type": "execute_result"
    }
   ],
   "source": [
    "df.isnull().sum()"
   ]
  },
  {
   "cell_type": "code",
   "execution_count": null,
   "id": "e175cd3a-c894-49c8-8efa-4b1455c8f2f9",
   "metadata": {},
   "outputs": [],
   "source": []
  },
  {
   "cell_type": "code",
   "execution_count": null,
   "id": "6e2499e3-98e9-4c15-bf00-1e6bb698199b",
   "metadata": {},
   "outputs": [],
   "source": []
  },
  {
   "cell_type": "code",
   "execution_count": 105,
   "id": "48aeee23-ad0a-48be-8f0c-91459e6be7f3",
   "metadata": {},
   "outputs": [
    {
     "data": {
      "text/html": [
       "<div>\n",
       "<style scoped>\n",
       "    .dataframe tbody tr th:only-of-type {\n",
       "        vertical-align: middle;\n",
       "    }\n",
       "\n",
       "    .dataframe tbody tr th {\n",
       "        vertical-align: top;\n",
       "    }\n",
       "\n",
       "    .dataframe thead th {\n",
       "        text-align: right;\n",
       "    }\n",
       "</style>\n",
       "<table border=\"1\" class=\"dataframe\">\n",
       "  <thead>\n",
       "    <tr style=\"text-align: right;\">\n",
       "      <th></th>\n",
       "      <th>ID</th>\n",
       "      <th>Sex</th>\n",
       "      <th>Marital status</th>\n",
       "      <th>Age</th>\n",
       "      <th>Education</th>\n",
       "      <th>Income</th>\n",
       "      <th>Occupation</th>\n",
       "      <th>Settlement size</th>\n",
       "      <th>Unnamed: 10</th>\n",
       "      <th>Unnamed: 13</th>\n",
       "    </tr>\n",
       "  </thead>\n",
       "  <tbody>\n",
       "    <tr>\n",
       "      <th>9</th>\n",
       "      <td>100000010.0</td>\n",
       "      <td>0.0</td>\n",
       "      <td>1.0</td>\n",
       "      <td>28.0</td>\n",
       "      <td>1.0</td>\n",
       "      <td>174646.0</td>\n",
       "      <td>2.0</td>\n",
       "      <td>0.0</td>\n",
       "      <td>2.652950987</td>\n",
       "      <td>0.844828</td>\n",
       "    </tr>\n",
       "    <tr>\n",
       "      <th>10</th>\n",
       "      <td>100000011.0</td>\n",
       "      <td>1.0</td>\n",
       "      <td>1.0</td>\n",
       "      <td>25.0</td>\n",
       "      <td>1.0</td>\n",
       "      <td>108469.0</td>\n",
       "      <td>1.0</td>\n",
       "      <td>0.0</td>\n",
       "      <td>-1.186835267</td>\n",
       "      <td>0.068966</td>\n",
       "    </tr>\n",
       "    <tr>\n",
       "      <th>11</th>\n",
       "      <td>100000012.0</td>\n",
       "      <td>1.0</td>\n",
       "      <td>1.0</td>\n",
       "      <td>24.0</td>\n",
       "      <td>1.0</td>\n",
       "      <td>127596.0</td>\n",
       "      <td>1.0</td>\n",
       "      <td>0.0</td>\n",
       "      <td>1.117036485</td>\n",
       "      <td>0.534483</td>\n",
       "    </tr>\n",
       "    <tr>\n",
       "      <th>12</th>\n",
       "      <td>100000013.0</td>\n",
       "      <td>1.0</td>\n",
       "      <td>1.0</td>\n",
       "      <td>22.0</td>\n",
       "      <td>1.0</td>\n",
       "      <td>108687.0</td>\n",
       "      <td>1.0</td>\n",
       "      <td>2.0</td>\n",
       "      <td>0.775722152</td>\n",
       "      <td>0.465517</td>\n",
       "    </tr>\n",
       "    <tr>\n",
       "      <th>13</th>\n",
       "      <td>100000014.0</td>\n",
       "      <td>0.0</td>\n",
       "      <td>0.0</td>\n",
       "      <td>60.0</td>\n",
       "      <td>2.0</td>\n",
       "      <td>89374.0</td>\n",
       "      <td>0.0</td>\n",
       "      <td>0.0</td>\n",
       "      <td>1.458350819</td>\n",
       "      <td>0.603448</td>\n",
       "    </tr>\n",
       "  </tbody>\n",
       "</table>\n",
       "</div>"
      ],
      "text/plain": [
       "             ID  Sex  Marital status   Age  Education    Income  Occupation  \\\n",
       "9   100000010.0  0.0             1.0  28.0        1.0  174646.0         2.0   \n",
       "10  100000011.0  1.0             1.0  25.0        1.0  108469.0         1.0   \n",
       "11  100000012.0  1.0             1.0  24.0        1.0  127596.0         1.0   \n",
       "12  100000013.0  1.0             1.0  22.0        1.0  108687.0         1.0   \n",
       "13  100000014.0  0.0             0.0  60.0        2.0   89374.0         0.0   \n",
       "\n",
       "    Settlement size   Unnamed: 10  Unnamed: 13  \n",
       "9               0.0   2.652950987     0.844828  \n",
       "10              0.0  -1.186835267     0.068966  \n",
       "11              0.0   1.117036485     0.534483  \n",
       "12              2.0   0.775722152     0.465517  \n",
       "13              0.0   1.458350819     0.603448  "
      ]
     },
     "execution_count": 105,
     "metadata": {},
     "output_type": "execute_result"
    }
   ],
   "source": [
    "df.head()"
   ]
  },
  {
   "cell_type": "code",
   "execution_count": 106,
   "id": "14788ad5-204b-44a4-b14f-1fe21269fbc3",
   "metadata": {},
   "outputs": [
    {
     "data": {
      "text/plain": [
       "ID                 0\n",
       "Sex                0\n",
       "Marital status     0\n",
       "Age                0\n",
       "Education          0\n",
       "Income             0\n",
       "Occupation         0\n",
       "Settlement size    0\n",
       "Unnamed: 10        0\n",
       "Unnamed: 13        0\n",
       "dtype: int64"
      ]
     },
     "execution_count": 106,
     "metadata": {},
     "output_type": "execute_result"
    }
   ],
   "source": [
    "df.isnull().sum()"
   ]
  },
  {
   "cell_type": "code",
   "execution_count": 107,
   "id": "3f710e67-128b-4c74-9680-5c51977fd438",
   "metadata": {},
   "outputs": [
    {
     "data": {
      "image/png": "[encoded data removed]",
      "text/plain": [
       "<Figure size 2100x1500 with 2 Axes>"
      ]
     },
     "metadata": {},
     "output_type": "display_data"
    }
   ],
   "source": [
    "plt.figure(figsize=(21,15))\n",
    "\n",
    "plt.subplot2grid((2,2),(0,0))\n",
    "box1 = sns.boxplot(y=df.Age)\n",
    "plt.title('Age')\n",
    "\n",
    "plt.subplot2grid((2,2),(1,0))\n",
    "box1 = sns.boxplot(y=df.Income)\n",
    "plt.title('Income')\n",
    "plt.show()"
   ]
  },
  {
   "cell_type": "code",
   "execution_count": null,
   "id": "4304d2ed-e61b-44b2-81f9-555cb9b71ca3",
   "metadata": {},
   "outputs": [],
   "source": []
  },
  {
   "cell_type": "code",
   "execution_count": 116,
   "id": "9e05598f-3d27-43a2-8db9-5d58811c9cbf",
   "metadata": {},
   "outputs": [],
   "source": [
    "Q1 = df['Age'].quantile(0.25)\n",
    "Q3 = df['Age'].quantile(0.75)\n",
    "\n",
    "# Calculate the Interquartile Range (IQR)\n",
    "IQR = Q3 - Q1\n",
    "\n",
    "# Determine the outlier boundaries\n",
    "lower_bound = Q1 - 1.5 * IQR\n",
    "upper_bound = Q3 + 1.5 * IQR\n",
    "\n",
    "# Drop outliers\n",
    "df_mean = df.loc[(df['Age'] >= lower_bound) & (df['Age'] <= upper_bound),'Age'].mean()\n",
    "\n"
   ]
  },
  {
   "cell_type": "code",
   "execution_count": 117,
   "id": "d195f35e-ee33-4700-9f85-f50c880f1e80",
   "metadata": {},
   "outputs": [],
   "source": [
    "df.loc[(df['Age'] < lower_bound) | (df['Age'] > upper_bound),'Age'] = df_mean"
   ]
  },
  {
   "cell_type": "code",
   "execution_count": 118,
   "id": "a3a87558-b1b1-442a-a24b-9937dbd8f0da",
   "metadata": {},
   "outputs": [
    {
     "data": {
      "text/plain": [
       "34.05199972455462"
      ]
     },
     "execution_count": 118,
     "metadata": {},
     "output_type": "execute_result"
    }
   ],
   "source": [
    "df_mean"
   ]
  },
  {
   "cell_type": "code",
   "execution_count": 119,
   "id": "cc0ceb26-99ef-41d6-b48f-d25660dbd21f",
   "metadata": {},
   "outputs": [
    {
     "data": {
      "image/png": "[encoded data removed]",
      "text/plain": [
       "<Figure size 2100x1500 with 2 Axes>"
      ]
     },
     "metadata": {},
     "output_type": "display_data"
    }
   ],
   "source": [
    "plt.figure(figsize=(21,15))\n",
    "\n",
    "plt.subplot2grid((2,2),(0,0))\n",
    "box1 = sns.boxplot(y=df.Age)\n",
    "plt.title('Age')\n",
    "\n",
    "plt.subplot2grid((2,2),(1,0))\n",
    "box1 = sns.boxplot(y=df.Income)\n",
    "plt.title('Income')\n",
    "plt.show()"
   ]
  },
  {
   "cell_type": "code",
   "execution_count": 129,
   "id": "45db58e3-9a07-4a0b-a372-a5c09d5e4001",
   "metadata": {},
   "outputs": [],
   "source": [
    "Q1 = df['Income'].quantile(0.25)\n",
    "Q3 = df['Income'].quantile(0.75)\n",
    "\n",
    "# Calculate the Interquartile Range (IQR)\n",
    "IQR = Q3 - Q1\n",
    "\n",
    "# Determine the outlier boundaries\n",
    "lower_bound = Q1 - 1.5 * IQR\n",
    "upper_bound = Q3 + 1.5 * IQR\n",
    "\n",
    "# Drop outliers\n",
    "df_mean = df.loc[(df['Income'] >= lower_bound) & (df['Income'] <= upper_bound),'Income'].mean()"
   ]
  },
  {
   "cell_type": "code",
   "execution_count": 132,
   "id": "aec979a9-f94a-4b39-9b86-78e1c10b9137",
   "metadata": {},
   "outputs": [
    {
     "data": {
      "text/plain": [
       "114932.84314702157"
      ]
     },
     "execution_count": 132,
     "metadata": {},
     "output_type": "execute_result"
    }
   ],
   "source": [
    "df_mean"
   ]
  },
  {
   "cell_type": "code",
   "execution_count": 130,
   "id": "9adcf92f-f249-4023-9def-8f518e40318c",
   "metadata": {},
   "outputs": [],
   "source": [
    "df.loc[(df['Income'] < lower_bound) | (df['Income'] > upper_bound),'Income'] = df_mean"
   ]
  },
  {
   "cell_type": "code",
   "execution_count": 131,
   "id": "26515a7b-3ca8-4736-9196-ae021194f3db",
   "metadata": {},
   "outputs": [
    {
     "data": {
      "image/png": "[encoded data removed]",
      "text/plain": [
       "<Figure size 2100x1500 with 2 Axes>"
      ]
     },
     "metadata": {},
     "output_type": "display_data"
    }
   ],
   "source": [
    "plt.figure(figsize=(21,15))\n",
    "\n",
    "plt.subplot2grid((2,2),(0,0))\n",
    "box1 = sns.boxplot(y=df.Age)\n",
    "plt.title('Age')\n",
    "\n",
    "plt.subplot2grid((2,2),(1,0))\n",
    "box1 = sns.boxplot(y=df.Income)\n",
    "plt.title('Income')\n",
    "plt.show()"
   ]
  },
  {
   "cell_type": "code",
   "execution_count": null,
   "id": "840d2b7f-e66c-4102-9756-c161fb51e866",
   "metadata": {},
   "outputs": [],
   "source": []
  }
 ],
 "metadata": {
  "kernelspec": {
   "display_name": "Python 3 (ipykernel)",
   "language": "python",
   "name": "python3"
  },
  "language_info": {
   "codemirror_mode": {
    "name": "ipython",
    "version": 3
   },
   "file_extension": ".py",
   "mimetype": "text/x-python",
   "name": "python",
   "nbconvert_exporter": "python",
   "pygments_lexer": "ipython3",
   "version": "3.12.2"
  }
 },
 "nbformat": 4,
 "nbformat_minor": 5
}
