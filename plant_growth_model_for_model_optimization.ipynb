{
 "cells": [
  {
   "cell_type": "code",
   "execution_count": 2,
   "metadata": {},
   "outputs": [],
   "source": [
    "import pandas as pd\n",
    "import warnings\n",
    "warnings.filterwarnings('ignore')"
   ]
  },
  {
   "cell_type": "code",
   "execution_count": 3,
   "metadata": {},
   "outputs": [],
   "source": [
    "df = pd.read_csv('plant_growth_data.csv')"
   ]
  },
  {
   "cell_type": "code",
   "execution_count": 10,
   "metadata": {},
   "outputs": [
    {
     "data": {
      "text/plain": [
       "(193, 7)"
      ]
     },
     "execution_count": 10,
     "metadata": {},
     "output_type": "execute_result"
    }
   ],
   "source": [
    "df.shape"
   ]
  },
  {
   "cell_type": "code",
   "execution_count": 4,
   "metadata": {},
   "outputs": [
    {
     "data": {
      "text/html": [
       "<div>\n",
       "<style scoped>\n",
       "    .dataframe tbody tr th:only-of-type {\n",
       "        vertical-align: middle;\n",
       "    }\n",
       "\n",
       "    .dataframe tbody tr th {\n",
       "        vertical-align: top;\n",
       "    }\n",
       "\n",
       "    .dataframe thead th {\n",
       "        text-align: right;\n",
       "    }\n",
       "</style>\n",
       "<table border=\"1\" class=\"dataframe\">\n",
       "  <thead>\n",
       "    <tr style=\"text-align: right;\">\n",
       "      <th></th>\n",
       "      <th>Soil_Type</th>\n",
       "      <th>Sunlight_Hours</th>\n",
       "      <th>Water_Frequency</th>\n",
       "      <th>Fertilizer_Type</th>\n",
       "      <th>Temperature</th>\n",
       "      <th>Humidity</th>\n",
       "      <th>Growth_Milestone</th>\n",
       "    </tr>\n",
       "  </thead>\n",
       "  <tbody>\n",
       "    <tr>\n",
       "      <th>0</th>\n",
       "      <td>loam</td>\n",
       "      <td>5.192294</td>\n",
       "      <td>bi-weekly</td>\n",
       "      <td>chemical</td>\n",
       "      <td>31.719602</td>\n",
       "      <td>61.591861</td>\n",
       "      <td>0</td>\n",
       "    </tr>\n",
       "    <tr>\n",
       "      <th>1</th>\n",
       "      <td>sandy</td>\n",
       "      <td>4.033133</td>\n",
       "      <td>weekly</td>\n",
       "      <td>organic</td>\n",
       "      <td>28.919484</td>\n",
       "      <td>52.422276</td>\n",
       "      <td>1</td>\n",
       "    </tr>\n",
       "    <tr>\n",
       "      <th>2</th>\n",
       "      <td>loam</td>\n",
       "      <td>8.892769</td>\n",
       "      <td>bi-weekly</td>\n",
       "      <td>none</td>\n",
       "      <td>23.179059</td>\n",
       "      <td>44.660539</td>\n",
       "      <td>0</td>\n",
       "    </tr>\n",
       "    <tr>\n",
       "      <th>3</th>\n",
       "      <td>loam</td>\n",
       "      <td>8.241144</td>\n",
       "      <td>bi-weekly</td>\n",
       "      <td>none</td>\n",
       "      <td>18.465886</td>\n",
       "      <td>46.433227</td>\n",
       "      <td>0</td>\n",
       "    </tr>\n",
       "    <tr>\n",
       "      <th>4</th>\n",
       "      <td>sandy</td>\n",
       "      <td>8.374043</td>\n",
       "      <td>bi-weekly</td>\n",
       "      <td>organic</td>\n",
       "      <td>18.128741</td>\n",
       "      <td>63.625923</td>\n",
       "      <td>0</td>\n",
       "    </tr>\n",
       "  </tbody>\n",
       "</table>\n",
       "</div>"
      ],
      "text/plain": [
       "  Soil_Type  Sunlight_Hours Water_Frequency Fertilizer_Type  Temperature  \\\n",
       "0      loam        5.192294       bi-weekly        chemical    31.719602   \n",
       "1     sandy        4.033133          weekly         organic    28.919484   \n",
       "2      loam        8.892769       bi-weekly            none    23.179059   \n",
       "3      loam        8.241144       bi-weekly            none    18.465886   \n",
       "4     sandy        8.374043       bi-weekly         organic    18.128741   \n",
       "\n",
       "    Humidity  Growth_Milestone  \n",
       "0  61.591861                 0  \n",
       "1  52.422276                 1  \n",
       "2  44.660539                 0  \n",
       "3  46.433227                 0  \n",
       "4  63.625923                 0  "
      ]
     },
     "execution_count": 4,
     "metadata": {},
     "output_type": "execute_result"
    }
   ],
   "source": [
    "df.head()"
   ]
  },
  {
   "cell_type": "code",
   "execution_count": 43,
   "metadata": {},
   "outputs": [
    {
     "data": {
      "text/html": [
       "<div>\n",
       "<style scoped>\n",
       "    .dataframe tbody tr th:only-of-type {\n",
       "        vertical-align: middle;\n",
       "    }\n",
       "\n",
       "    .dataframe tbody tr th {\n",
       "        vertical-align: top;\n",
       "    }\n",
       "\n",
       "    .dataframe thead th {\n",
       "        text-align: right;\n",
       "    }\n",
       "</style>\n",
       "<table border=\"1\" class=\"dataframe\">\n",
       "  <thead>\n",
       "    <tr style=\"text-align: right;\">\n",
       "      <th></th>\n",
       "      <th>Soil_Type</th>\n",
       "      <th>Sunlight_Hours</th>\n",
       "      <th>Water_Frequency</th>\n",
       "      <th>Fertilizer_Type</th>\n",
       "      <th>Temperature</th>\n",
       "      <th>Humidity</th>\n",
       "      <th>Growth_Milestone</th>\n",
       "    </tr>\n",
       "  </thead>\n",
       "  <tbody>\n",
       "    <tr>\n",
       "      <th>count</th>\n",
       "      <td>193.000000</td>\n",
       "      <td>193.000000</td>\n",
       "      <td>193.000000</td>\n",
       "      <td>193.000000</td>\n",
       "      <td>193.000000</td>\n",
       "      <td>193.000000</td>\n",
       "      <td>193.000000</td>\n",
       "    </tr>\n",
       "    <tr>\n",
       "      <th>mean</th>\n",
       "      <td>0.984456</td>\n",
       "      <td>6.826484</td>\n",
       "      <td>0.994819</td>\n",
       "      <td>0.943005</td>\n",
       "      <td>25.076087</td>\n",
       "      <td>58.098927</td>\n",
       "      <td>0.497409</td>\n",
       "    </tr>\n",
       "    <tr>\n",
       "      <th>std</th>\n",
       "      <td>0.825862</td>\n",
       "      <td>1.599509</td>\n",
       "      <td>0.787251</td>\n",
       "      <td>0.785192</td>\n",
       "      <td>5.354170</td>\n",
       "      <td>12.631799</td>\n",
       "      <td>0.501294</td>\n",
       "    </tr>\n",
       "    <tr>\n",
       "      <th>min</th>\n",
       "      <td>0.000000</td>\n",
       "      <td>4.033133</td>\n",
       "      <td>0.000000</td>\n",
       "      <td>0.000000</td>\n",
       "      <td>15.200000</td>\n",
       "      <td>30.567682</td>\n",
       "      <td>0.000000</td>\n",
       "    </tr>\n",
       "    <tr>\n",
       "      <th>25%</th>\n",
       "      <td>0.000000</td>\n",
       "      <td>5.477000</td>\n",
       "      <td>0.000000</td>\n",
       "      <td>0.000000</td>\n",
       "      <td>20.637095</td>\n",
       "      <td>49.300000</td>\n",
       "      <td>0.000000</td>\n",
       "    </tr>\n",
       "    <tr>\n",
       "      <th>50%</th>\n",
       "      <td>1.000000</td>\n",
       "      <td>6.833290</td>\n",
       "      <td>1.000000</td>\n",
       "      <td>1.000000</td>\n",
       "      <td>25.912336</td>\n",
       "      <td>59.182806</td>\n",
       "      <td>0.000000</td>\n",
       "    </tr>\n",
       "    <tr>\n",
       "      <th>75%</th>\n",
       "      <td>2.000000</td>\n",
       "      <td>8.241144</td>\n",
       "      <td>2.000000</td>\n",
       "      <td>2.000000</td>\n",
       "      <td>29.757938</td>\n",
       "      <td>69.100000</td>\n",
       "      <td>1.000000</td>\n",
       "    </tr>\n",
       "    <tr>\n",
       "      <th>max</th>\n",
       "      <td>2.000000</td>\n",
       "      <td>9.913903</td>\n",
       "      <td>2.000000</td>\n",
       "      <td>2.000000</td>\n",
       "      <td>34.810103</td>\n",
       "      <td>79.648240</td>\n",
       "      <td>1.000000</td>\n",
       "    </tr>\n",
       "  </tbody>\n",
       "</table>\n",
       "</div>"
      ],
      "text/plain": [
       "        Soil_Type  Sunlight_Hours  Water_Frequency  Fertilizer_Type  \\\n",
       "count  193.000000      193.000000       193.000000       193.000000   \n",
       "mean     0.984456        6.826484         0.994819         0.943005   \n",
       "std      0.825862        1.599509         0.787251         0.785192   \n",
       "min      0.000000        4.033133         0.000000         0.000000   \n",
       "25%      0.000000        5.477000         0.000000         0.000000   \n",
       "50%      1.000000        6.833290         1.000000         1.000000   \n",
       "75%      2.000000        8.241144         2.000000         2.000000   \n",
       "max      2.000000        9.913903         2.000000         2.000000   \n",
       "\n",
       "       Temperature    Humidity  Growth_Milestone  \n",
       "count   193.000000  193.000000        193.000000  \n",
       "mean     25.076087   58.098927          0.497409  \n",
       "std       5.354170   12.631799          0.501294  \n",
       "min      15.200000   30.567682          0.000000  \n",
       "25%      20.637095   49.300000          0.000000  \n",
       "50%      25.912336   59.182806          0.000000  \n",
       "75%      29.757938   69.100000          1.000000  \n",
       "max      34.810103   79.648240          1.000000  "
      ]
     },
     "execution_count": 43,
     "metadata": {},
     "output_type": "execute_result"
    }
   ],
   "source": [
    "df.describe()"
   ]
  },
  {
   "cell_type": "code",
   "execution_count": 5,
   "metadata": {},
   "outputs": [],
   "source": [
    "from sklearn.preprocessing import LabelEncoder \n",
    "label_encoder = LabelEncoder() \n",
    "df['Soil_Type']= label_encoder.fit_transform(df['Soil_Type']) \n",
    "df['Water_Frequency']= label_encoder.fit_transform(df['Water_Frequency']) \n",
    "df['Fertilizer_Type']= label_encoder.fit_transform(df['Fertilizer_Type']) "
   ]
  },
  {
   "cell_type": "code",
   "execution_count": 6,
   "metadata": {},
   "outputs": [
    {
     "data": {
      "text/html": [
       "<div>\n",
       "<style scoped>\n",
       "    .dataframe tbody tr th:only-of-type {\n",
       "        vertical-align: middle;\n",
       "    }\n",
       "\n",
       "    .dataframe tbody tr th {\n",
       "        vertical-align: top;\n",
       "    }\n",
       "\n",
       "    .dataframe thead th {\n",
       "        text-align: right;\n",
       "    }\n",
       "</style>\n",
       "<table border=\"1\" class=\"dataframe\">\n",
       "  <thead>\n",
       "    <tr style=\"text-align: right;\">\n",
       "      <th></th>\n",
       "      <th>Soil_Type</th>\n",
       "      <th>Sunlight_Hours</th>\n",
       "      <th>Water_Frequency</th>\n",
       "      <th>Fertilizer_Type</th>\n",
       "      <th>Temperature</th>\n",
       "      <th>Humidity</th>\n",
       "      <th>Growth_Milestone</th>\n",
       "    </tr>\n",
       "  </thead>\n",
       "  <tbody>\n",
       "    <tr>\n",
       "      <th>0</th>\n",
       "      <td>1</td>\n",
       "      <td>5.192294</td>\n",
       "      <td>0</td>\n",
       "      <td>0</td>\n",
       "      <td>31.719602</td>\n",
       "      <td>61.591861</td>\n",
       "      <td>0</td>\n",
       "    </tr>\n",
       "    <tr>\n",
       "      <th>1</th>\n",
       "      <td>2</td>\n",
       "      <td>4.033133</td>\n",
       "      <td>2</td>\n",
       "      <td>2</td>\n",
       "      <td>28.919484</td>\n",
       "      <td>52.422276</td>\n",
       "      <td>1</td>\n",
       "    </tr>\n",
       "    <tr>\n",
       "      <th>2</th>\n",
       "      <td>1</td>\n",
       "      <td>8.892769</td>\n",
       "      <td>0</td>\n",
       "      <td>1</td>\n",
       "      <td>23.179059</td>\n",
       "      <td>44.660539</td>\n",
       "      <td>0</td>\n",
       "    </tr>\n",
       "    <tr>\n",
       "      <th>3</th>\n",
       "      <td>1</td>\n",
       "      <td>8.241144</td>\n",
       "      <td>0</td>\n",
       "      <td>1</td>\n",
       "      <td>18.465886</td>\n",
       "      <td>46.433227</td>\n",
       "      <td>0</td>\n",
       "    </tr>\n",
       "    <tr>\n",
       "      <th>4</th>\n",
       "      <td>2</td>\n",
       "      <td>8.374043</td>\n",
       "      <td>0</td>\n",
       "      <td>2</td>\n",
       "      <td>18.128741</td>\n",
       "      <td>63.625923</td>\n",
       "      <td>0</td>\n",
       "    </tr>\n",
       "  </tbody>\n",
       "</table>\n",
       "</div>"
      ],
      "text/plain": [
       "   Soil_Type  Sunlight_Hours  Water_Frequency  Fertilizer_Type  Temperature  \\\n",
       "0          1        5.192294                0                0    31.719602   \n",
       "1          2        4.033133                2                2    28.919484   \n",
       "2          1        8.892769                0                1    23.179059   \n",
       "3          1        8.241144                0                1    18.465886   \n",
       "4          2        8.374043                0                2    18.128741   \n",
       "\n",
       "    Humidity  Growth_Milestone  \n",
       "0  61.591861                 0  \n",
       "1  52.422276                 1  \n",
       "2  44.660539                 0  \n",
       "3  46.433227                 0  \n",
       "4  63.625923                 0  "
      ]
     },
     "execution_count": 6,
     "metadata": {},
     "output_type": "execute_result"
    }
   ],
   "source": [
    "df.head()"
   ]
  },
  {
   "cell_type": "code",
   "execution_count": 11,
   "metadata": {},
   "outputs": [
    {
     "data": {
      "text/plain": [
       "Soil_Type           0\n",
       "Sunlight_Hours      0\n",
       "Water_Frequency     0\n",
       "Fertilizer_Type     0\n",
       "Temperature         0\n",
       "Humidity            0\n",
       "Growth_Milestone    0\n",
       "dtype: int64"
      ]
     },
     "execution_count": 11,
     "metadata": {},
     "output_type": "execute_result"
    }
   ],
   "source": [
    "df.isnull().sum()"
   ]
  },
  {
   "cell_type": "code",
   "execution_count": 12,
   "metadata": {},
   "outputs": [
    {
     "data": {
      "text/plain": [
       "0    97\n",
       "1    96\n",
       "Name: Growth_Milestone, dtype: int64"
      ]
     },
     "execution_count": 12,
     "metadata": {},
     "output_type": "execute_result"
    }
   ],
   "source": [
    "df['Growth_Milestone'].value_counts()"
   ]
  },
  {
   "cell_type": "code",
   "execution_count": 28,
   "metadata": {},
   "outputs": [],
   "source": [
    "import matplotlib.pyplot as plt\n",
    "import seaborn as sns\n",
    "def draw_hist(df:pd.DataFrame):\n",
    "    fig, axs = plt.subplots(2, 3, figsize = (15, 10))\n",
    "    \n",
    "    for i, column in enumerate(df.columns[:-1]):\n",
    "        row_index = i // 3\n",
    "        col_index = i % 3  \n",
    "        sns.histplot(x=column, data=df, ax=axs[row_index, col_index], alpha=0.5, kde=True)\n",
    "        axs[row_index, col_index].set_title(f'Hist Plot of {column}')\n",
    "    plt.tight_layout()\n",
    "    plt.show()"
   ]
  },
  {
   "cell_type": "code",
   "execution_count": 29,
   "metadata": {},
   "outputs": [
    {
     "data": {
      "image/png": "[encoded data removed]",
      "text/plain": [
       "<Figure size 1080x720 with 6 Axes>"
      ]
     },
     "metadata": {
      "needs_background": "light"
     },
     "output_type": "display_data"
    }
   ],
   "source": [
    "draw_hist(df)"
   ]
  },
  {
   "cell_type": "code",
   "execution_count": 30,
   "metadata": {},
   "outputs": [
    {
     "data": {
      "image/png": "[encoded data removed]",
      "text/plain": [
       "<Figure size 1080x864 with 2 Axes>"
      ]
     },
     "metadata": {
      "needs_background": "light"
     },
     "output_type": "display_data"
    }
   ],
   "source": [
    "plt.figure(figsize=(15, 12))\n",
    "sns.heatmap(df.corr(method='pearson'),annot=True)\n",
    "plt.show()"
   ]
  },
  {
   "cell_type": "markdown",
   "metadata": {},
   "source": [
    "## Baseline Model"
   ]
  },
  {
   "cell_type": "code",
   "execution_count": 34,
   "metadata": {},
   "outputs": [],
   "source": [
    "from sklearn.preprocessing import StandardScaler\n",
    "from sklearn.model_selection import train_test_split\n",
    "from sklearn.decomposition import PCA\n",
    "\n",
    "from sklearn.model_selection import cross_val_score, KFold\n",
    "from sklearn.ensemble import RandomForestClassifier\n",
    "from sklearn.linear_model import LogisticRegression\n",
    "from sklearn.neighbors import KNeighborsClassifier\n",
    "from sklearn.tree import DecisionTreeClassifier\n",
    "from sklearn.naive_bayes import GaussianNB\n",
    "from sklearn.svm import SVC\n",
    "\n",
    "from sklearn.model_selection import GridSearchCV\n",
    "\n",
    "from sklearn.metrics import accuracy_score,confusion_matrix,classification_report"
   ]
  },
  {
   "cell_type": "code",
   "execution_count": 35,
   "metadata": {},
   "outputs": [],
   "source": [
    "X_train,X_test,y_train,y_test = train_test_split(df.drop('Growth_Milestone',axis=1),df['Growth_Milestone'],test_size=0.2,random_state=42)"
   ]
  },
  {
   "cell_type": "code",
   "execution_count": 36,
   "metadata": {},
   "outputs": [
    {
     "name": "stdout",
     "output_type": "stream",
     "text": [
      "-------------------------------------------------------------------------\n",
      "The accuraccy score is: ------>>  0.48717948717948717\n",
      "-------------------------------------------------------------------------\n",
      "The Confusion Matrix is: ------>> \n",
      "[[11  6]\n",
      " [14  8]]\n",
      "-------------------------------------------------------------------------\n",
      "The Classification Report is: ---->> \n",
      "               precision    recall  f1-score   support\n",
      "\n",
      "           0       0.44      0.65      0.52        17\n",
      "           1       0.57      0.36      0.44        22\n",
      "\n",
      "    accuracy                           0.49        39\n",
      "   macro avg       0.51      0.51      0.48        39\n",
      "weighted avg       0.51      0.49      0.48        39\n",
      "\n"
     ]
    }
   ],
   "source": [
    "lr = LogisticRegression()\n",
    "lr.fit(X_train,y_train)\n",
    "y_pred =lr.predict(X_test)\n",
    "print(\"-------------------------------------------------------------------------\")\n",
    "print(f\"The accuraccy score is: ------>>  {accuracy_score(y_test,y_pred)}\")\n",
    "print(\"-------------------------------------------------------------------------\")\n",
    "print(f\"The Confusion Matrix is: ------>> \\n{confusion_matrix(y_test,y_pred)}\")\n",
    "print(\"-------------------------------------------------------------------------\")\n",
    "print(f\"The Classification Report is: ---->> \\n {classification_report(y_test,y_pred)}\")"
   ]
  },
  {
   "cell_type": "code",
   "execution_count": 38,
   "metadata": {},
   "outputs": [
    {
     "name": "stdout",
     "output_type": "stream",
     "text": [
      "-------------------------------------------------------------------------\n",
      "The accuraccy score is: ------>>  0.41025641025641024\n",
      "-------------------------------------------------------------------------\n",
      "The Confusion Matrix is: ------>> \n",
      "[[ 7 10]\n",
      " [13  9]]\n",
      "-------------------------------------------------------------------------\n",
      "The Classification Report is: ---->> \n",
      "               precision    recall  f1-score   support\n",
      "\n",
      "           0       0.35      0.41      0.38        17\n",
      "           1       0.47      0.41      0.44        22\n",
      "\n",
      "    accuracy                           0.41        39\n",
      "   macro avg       0.41      0.41      0.41        39\n",
      "weighted avg       0.42      0.41      0.41        39\n",
      "\n"
     ]
    }
   ],
   "source": [
    "knn = KNeighborsClassifier()\n",
    "knn.fit(X_train,y_train)\n",
    "y_pred =knn.predict(X_test)\n",
    "print(\"-------------------------------------------------------------------------\")\n",
    "print(f\"The accuraccy score is: ------>>  {accuracy_score(y_test,y_pred)}\")\n",
    "print(\"-------------------------------------------------------------------------\")\n",
    "print(f\"The Confusion Matrix is: ------>> \\n{confusion_matrix(y_test,y_pred)}\")\n",
    "print(\"-------------------------------------------------------------------------\")\n",
    "print(f\"The Classification Report is: ---->> \\n {classification_report(y_test,y_pred)}\")"
   ]
  },
  {
   "cell_type": "code",
   "execution_count": 40,
   "metadata": {},
   "outputs": [
    {
     "name": "stdout",
     "output_type": "stream",
     "text": [
      "-------------------------------------------------------------------------\n",
      "The accuraccy score is: ------>>  0.5384615384615384\n",
      "-------------------------------------------------------------------------\n",
      "The Confusion Matrix is: ------>> \n",
      "[[11  6]\n",
      " [12 10]]\n",
      "-------------------------------------------------------------------------\n",
      "The Classification Report is: ---->> \n",
      "               precision    recall  f1-score   support\n",
      "\n",
      "           0       0.48      0.65      0.55        17\n",
      "           1       0.62      0.45      0.53        22\n",
      "\n",
      "    accuracy                           0.54        39\n",
      "   macro avg       0.55      0.55      0.54        39\n",
      "weighted avg       0.56      0.54      0.54        39\n",
      "\n"
     ]
    }
   ],
   "source": [
    "gnb = GaussianNB()\n",
    "gnb.fit(X_train,y_train)\n",
    "y_pred =gnb.predict(X_test)\n",
    "print(\"-------------------------------------------------------------------------\")\n",
    "print(f\"The accuraccy score is: ------>>  {accuracy_score(y_test,y_pred)}\")\n",
    "print(\"-------------------------------------------------------------------------\")\n",
    "print(f\"The Confusion Matrix is: ------>> \\n{confusion_matrix(y_test,y_pred)}\")\n",
    "print(\"-------------------------------------------------------------------------\")\n",
    "print(f\"The Classification Report is: ---->> \\n {classification_report(y_test,y_pred)}\")"
   ]
  },
  {
   "cell_type": "code",
   "execution_count": 41,
   "metadata": {},
   "outputs": [
    {
     "name": "stdout",
     "output_type": "stream",
     "text": [
      "-------------------------------------------------------------------------\n",
      "The accuraccy score is: ------>>  0.4358974358974359\n",
      "-------------------------------------------------------------------------\n",
      "The Confusion Matrix is: ------>> \n",
      "[[ 6 11]\n",
      " [11 11]]\n",
      "-------------------------------------------------------------------------\n",
      "The Classification Report is: ---->> \n",
      "               precision    recall  f1-score   support\n",
      "\n",
      "           0       0.35      0.35      0.35        17\n",
      "           1       0.50      0.50      0.50        22\n",
      "\n",
      "    accuracy                           0.44        39\n",
      "   macro avg       0.43      0.43      0.43        39\n",
      "weighted avg       0.44      0.44      0.44        39\n",
      "\n"
     ]
    }
   ],
   "source": [
    "svc = SVC()\n",
    "svc.fit(X_train,y_train)\n",
    "y_pred =svc.predict(X_test)\n",
    "print(\"-------------------------------------------------------------------------\")\n",
    "print(f\"The accuraccy score is: ------>>  {accuracy_score(y_test,y_pred)}\")\n",
    "print(\"-------------------------------------------------------------------------\")\n",
    "print(f\"The Confusion Matrix is: ------>> \\n{confusion_matrix(y_test,y_pred)}\")\n",
    "print(\"-------------------------------------------------------------------------\")\n",
    "print(f\"The Classification Report is: ---->> \\n {classification_report(y_test,y_pred)}\")"
   ]
  },
  {
   "cell_type": "code",
   "execution_count": 42,
   "metadata": {},
   "outputs": [
    {
     "name": "stdout",
     "output_type": "stream",
     "text": [
      "-------------------------------------------------------------------------\n",
      "The accuraccy score is: ------>>  0.5128205128205128\n",
      "-------------------------------------------------------------------------\n",
      "The Confusion Matrix is: ------>> \n",
      "[[ 8  9]\n",
      " [10 12]]\n",
      "-------------------------------------------------------------------------\n",
      "The Classification Report is: ---->> \n",
      "               precision    recall  f1-score   support\n",
      "\n",
      "           0       0.44      0.47      0.46        17\n",
      "           1       0.57      0.55      0.56        22\n",
      "\n",
      "    accuracy                           0.51        39\n",
      "   macro avg       0.51      0.51      0.51        39\n",
      "weighted avg       0.52      0.51      0.51        39\n",
      "\n"
     ]
    }
   ],
   "source": [
    "rf = RandomForestClassifier()\n",
    "rf.fit(X_train,y_train)\n",
    "y_pred =rf.predict(X_test)\n",
    "print(\"-------------------------------------------------------------------------\")\n",
    "print(f\"The accuraccy score is: ------>>  {accuracy_score(y_test,y_pred)}\")\n",
    "print(\"-------------------------------------------------------------------------\")\n",
    "print(f\"The Confusion Matrix is: ------>> \\n{confusion_matrix(y_test,y_pred)}\")\n",
    "print(\"-------------------------------------------------------------------------\")\n",
    "print(f\"The Classification Report is: ---->> \\n {classification_report(y_test,y_pred)}\")"
   ]
  },
  {
   "cell_type": "code",
   "execution_count": 39,
   "metadata": {},
   "outputs": [
    {
     "name": "stdout",
     "output_type": "stream",
     "text": [
      "-------------------------------------------------------------------------\n",
      "The accuraccy score is: ------>>  0.6410256410256411\n",
      "-------------------------------------------------------------------------\n",
      "The Confusion Matrix is: ------>> \n",
      "[[10  7]\n",
      " [ 7 15]]\n",
      "-------------------------------------------------------------------------\n",
      "The Classification Report is: ---->> \n",
      "               precision    recall  f1-score   support\n",
      "\n",
      "           0       0.59      0.59      0.59        17\n",
      "           1       0.68      0.68      0.68        22\n",
      "\n",
      "    accuracy                           0.64        39\n",
      "   macro avg       0.64      0.64      0.64        39\n",
      "weighted avg       0.64      0.64      0.64        39\n",
      "\n"
     ]
    }
   ],
   "source": [
    "dt = DecisionTreeClassifier()\n",
    "dt.fit(X_train,y_train)\n",
    "y_pred =dt.predict(X_test)\n",
    "print(\"-------------------------------------------------------------------------\")\n",
    "print(f\"The accuraccy score is: ------>>  {accuracy_score(y_test,y_pred)}\")\n",
    "print(\"-------------------------------------------------------------------------\")\n",
    "print(f\"The Confusion Matrix is: ------>> \\n{confusion_matrix(y_test,y_pred)}\")\n",
    "print(\"-------------------------------------------------------------------------\")\n",
    "print(f\"The Classification Report is: ---->> \\n {classification_report(y_test,y_pred)}\")"
   ]
  },
  {
   "cell_type": "markdown",
   "metadata": {},
   "source": [
    "# Optimization\n",
    "## Scaling"
   ]
  },
  {
   "cell_type": "code",
   "execution_count": 47,
   "metadata": {},
   "outputs": [],
   "source": [
    "X = df.drop('Growth_Milestone',axis=1)\n",
    "y = df['Growth_Milestone']"
   ]
  },
  {
   "cell_type": "code",
   "execution_count": 48,
   "metadata": {},
   "outputs": [
    {
     "name": "stdout",
     "output_type": "stream",
     "text": [
      "Values of x after standardization: \n",
      " [[ 0.01887054 -1.02433992 -1.26694729 -1.20411038  1.24403863  0.27723828]\n",
      " [ 1.2328751  -1.75092318  1.28014466  1.34966219  0.7196995  -0.45056247]\n",
      " [ 0.01887054  1.29518422 -1.26694729  0.0727759  -0.35522993 -1.06662074]\n",
      " ...\n",
      " [ 0.01887054 -1.18624331 -1.26694729  0.0727759  -0.1078757   0.28582143]\n",
      " [ 1.2328751   0.9067021   0.00659868  1.34966219  0.52879492  0.90491664]\n",
      " [-1.19513402 -0.05922449  1.28014466  0.0727759  -0.63219268 -0.09516024]]\n"
     ]
    }
   ],
   "source": [
    "from sklearn.preprocessing import StandardScaler\n",
    "X_scaled = StandardScaler().fit_transform(X)\n",
    "print(\"Values of x after standardization: \\n\", X_scaled)"
   ]
  },
  {
   "cell_type": "code",
   "execution_count": 49,
   "metadata": {},
   "outputs": [],
   "source": [
    "X_train,X_test,y_train,y_test = train_test_split(X_scaled,y,test_size=0.2,random_state=42)"
   ]
  },
  {
   "cell_type": "code",
   "execution_count": 50,
   "metadata": {},
   "outputs": [
    {
     "name": "stdout",
     "output_type": "stream",
     "text": [
      "-------------------------------------------------------------------------\n",
      "The accuraccy score is: ------>>  0.48717948717948717\n",
      "-------------------------------------------------------------------------\n",
      "The Confusion Matrix is: ------>> \n",
      "[[11  6]\n",
      " [14  8]]\n",
      "-------------------------------------------------------------------------\n",
      "The Classification Report is: ---->> \n",
      "               precision    recall  f1-score   support\n",
      "\n",
      "           0       0.44      0.65      0.52        17\n",
      "           1       0.57      0.36      0.44        22\n",
      "\n",
      "    accuracy                           0.49        39\n",
      "   macro avg       0.51      0.51      0.48        39\n",
      "weighted avg       0.51      0.49      0.48        39\n",
      "\n"
     ]
    }
   ],
   "source": [
    "lr_scaled = LogisticRegression()\n",
    "lr_scaled.fit(X_train,y_train)\n",
    "y_pred =lr_scaled.predict(X_test)\n",
    "print(\"-------------------------------------------------------------------------\")\n",
    "print(f\"The accuraccy score is: ------>>  {accuracy_score(y_test,y_pred)}\")\n",
    "print(\"-------------------------------------------------------------------------\")\n",
    "print(f\"The Confusion Matrix is: ------>> \\n{confusion_matrix(y_test,y_pred)}\")\n",
    "print(\"-------------------------------------------------------------------------\")\n",
    "print(f\"The Classification Report is: ---->> \\n {classification_report(y_test,y_pred)}\")"
   ]
  },
  {
   "cell_type": "code",
   "execution_count": 51,
   "metadata": {},
   "outputs": [
    {
     "name": "stdout",
     "output_type": "stream",
     "text": [
      "-------------------------------------------------------------------------\n",
      "The accuraccy score is: ------>>  0.5128205128205128\n",
      "-------------------------------------------------------------------------\n",
      "The Confusion Matrix is: ------>> \n",
      "[[10  7]\n",
      " [12 10]]\n",
      "-------------------------------------------------------------------------\n",
      "The Classification Report is: ---->> \n",
      "               precision    recall  f1-score   support\n",
      "\n",
      "           0       0.45      0.59      0.51        17\n",
      "           1       0.59      0.45      0.51        22\n",
      "\n",
      "    accuracy                           0.51        39\n",
      "   macro avg       0.52      0.52      0.51        39\n",
      "weighted avg       0.53      0.51      0.51        39\n",
      "\n"
     ]
    }
   ],
   "source": [
    "knn_scaled = KNeighborsClassifier()\n",
    "knn_scaled.fit(X_train,y_train)\n",
    "y_pred =knn_scaled.predict(X_test)\n",
    "print(\"-------------------------------------------------------------------------\")\n",
    "print(f\"The accuraccy score is: ------>>  {accuracy_score(y_test,y_pred)}\")\n",
    "print(\"-------------------------------------------------------------------------\")\n",
    "print(f\"The Confusion Matrix is: ------>> \\n{confusion_matrix(y_test,y_pred)}\")\n",
    "print(\"-------------------------------------------------------------------------\")\n",
    "print(f\"The Classification Report is: ---->> \\n {classification_report(y_test,y_pred)}\")"
   ]
  },
  {
   "cell_type": "code",
   "execution_count": 52,
   "metadata": {},
   "outputs": [
    {
     "name": "stdout",
     "output_type": "stream",
     "text": [
      "-------------------------------------------------------------------------\n",
      "The accuraccy score is: ------>>  0.5384615384615384\n",
      "-------------------------------------------------------------------------\n",
      "The Confusion Matrix is: ------>> \n",
      "[[11  6]\n",
      " [12 10]]\n",
      "-------------------------------------------------------------------------\n",
      "The Classification Report is: ---->> \n",
      "               precision    recall  f1-score   support\n",
      "\n",
      "           0       0.48      0.65      0.55        17\n",
      "           1       0.62      0.45      0.53        22\n",
      "\n",
      "    accuracy                           0.54        39\n",
      "   macro avg       0.55      0.55      0.54        39\n",
      "weighted avg       0.56      0.54      0.54        39\n",
      "\n"
     ]
    }
   ],
   "source": [
    "gnb_scaled = GaussianNB()\n",
    "gnb_scaled.fit(X_train,y_train)\n",
    "y_pred =gnb_scaled.predict(X_test)\n",
    "print(\"-------------------------------------------------------------------------\")\n",
    "print(f\"The accuraccy score is: ------>>  {accuracy_score(y_test,y_pred)}\")\n",
    "print(\"-------------------------------------------------------------------------\")\n",
    "print(f\"The Confusion Matrix is: ------>> \\n{confusion_matrix(y_test,y_pred)}\")\n",
    "print(\"-------------------------------------------------------------------------\")\n",
    "print(f\"The Classification Report is: ---->> \\n {classification_report(y_test,y_pred)}\")"
   ]
  },
  {
   "cell_type": "code",
   "execution_count": 54,
   "metadata": {},
   "outputs": [
    {
     "name": "stdout",
     "output_type": "stream",
     "text": [
      "-------------------------------------------------------------------------\n",
      "The accuraccy score is: ------>>  0.48717948717948717\n",
      "-------------------------------------------------------------------------\n",
      "The Confusion Matrix is: ------>> \n",
      "[[ 9  8]\n",
      " [12 10]]\n",
      "-------------------------------------------------------------------------\n",
      "The Classification Report is: ---->> \n",
      "               precision    recall  f1-score   support\n",
      "\n",
      "           0       0.43      0.53      0.47        17\n",
      "           1       0.56      0.45      0.50        22\n",
      "\n",
      "    accuracy                           0.49        39\n",
      "   macro avg       0.49      0.49      0.49        39\n",
      "weighted avg       0.50      0.49      0.49        39\n",
      "\n"
     ]
    }
   ],
   "source": [
    "svc_scaled = SVC()\n",
    "svc_scaled.fit(X_train,y_train)\n",
    "y_pred =svc_scaled.predict(X_test)\n",
    "print(\"-------------------------------------------------------------------------\")\n",
    "print(f\"The accuraccy score is: ------>>  {accuracy_score(y_test,y_pred)}\")\n",
    "print(\"-------------------------------------------------------------------------\")\n",
    "print(f\"The Confusion Matrix is: ------>> \\n{confusion_matrix(y_test,y_pred)}\")\n",
    "print(\"-------------------------------------------------------------------------\")\n",
    "print(f\"The Classification Report is: ---->> \\n {classification_report(y_test,y_pred)}\")"
   ]
  },
  {
   "cell_type": "code",
   "execution_count": 55,
   "metadata": {},
   "outputs": [
    {
     "name": "stdout",
     "output_type": "stream",
     "text": [
      "-------------------------------------------------------------------------\n",
      "The accuraccy score is: ------>>  0.6153846153846154\n",
      "-------------------------------------------------------------------------\n",
      "The Confusion Matrix is: ------>> \n",
      "[[10  7]\n",
      " [ 8 14]]\n",
      "-------------------------------------------------------------------------\n",
      "The Classification Report is: ---->> \n",
      "               precision    recall  f1-score   support\n",
      "\n",
      "           0       0.56      0.59      0.57        17\n",
      "           1       0.67      0.64      0.65        22\n",
      "\n",
      "    accuracy                           0.62        39\n",
      "   macro avg       0.61      0.61      0.61        39\n",
      "weighted avg       0.62      0.62      0.62        39\n",
      "\n"
     ]
    }
   ],
   "source": [
    "rf_scaled = RandomForestClassifier()\n",
    "rf_scaled.fit(X_train,y_train)\n",
    "y_pred =rf_scaled.predict(X_test)\n",
    "print(\"-------------------------------------------------------------------------\")\n",
    "print(f\"The accuraccy score is: ------>>  {accuracy_score(y_test,y_pred)}\")\n",
    "print(\"-------------------------------------------------------------------------\")\n",
    "print(f\"The Confusion Matrix is: ------>> \\n{confusion_matrix(y_test,y_pred)}\")\n",
    "print(\"-------------------------------------------------------------------------\")\n",
    "print(f\"The Classification Report is: ---->> \\n {classification_report(y_test,y_pred)}\")"
   ]
  },
  {
   "cell_type": "code",
   "execution_count": 56,
   "metadata": {},
   "outputs": [
    {
     "name": "stdout",
     "output_type": "stream",
     "text": [
      "-------------------------------------------------------------------------\n",
      "The accuraccy score is: ------>>  0.6923076923076923\n",
      "-------------------------------------------------------------------------\n",
      "The Confusion Matrix is: ------>> \n",
      "[[ 9  8]\n",
      " [ 4 18]]\n",
      "-------------------------------------------------------------------------\n",
      "The Classification Report is: ---->> \n",
      "               precision    recall  f1-score   support\n",
      "\n",
      "           0       0.69      0.53      0.60        17\n",
      "           1       0.69      0.82      0.75        22\n",
      "\n",
      "    accuracy                           0.69        39\n",
      "   macro avg       0.69      0.67      0.68        39\n",
      "weighted avg       0.69      0.69      0.68        39\n",
      "\n"
     ]
    }
   ],
   "source": [
    "dt_scaled = DecisionTreeClassifier()\n",
    "dt_scaled.fit(X_train,y_train)\n",
    "y_pred =dt_scaled.predict(X_test)\n",
    "print(\"-------------------------------------------------------------------------\")\n",
    "print(f\"The accuraccy score is: ------>>  {accuracy_score(y_test,y_pred)}\")\n",
    "print(\"-------------------------------------------------------------------------\")\n",
    "print(f\"The Confusion Matrix is: ------>> \\n{confusion_matrix(y_test,y_pred)}\")\n",
    "print(\"-------------------------------------------------------------------------\")\n",
    "print(f\"The Classification Report is: ---->> \\n {classification_report(y_test,y_pred)}\")"
   ]
  },
  {
   "cell_type": "markdown",
   "metadata": {},
   "source": [
    "# Cross Validation\n",
    "## K-Fold"
   ]
  },
  {
   "cell_type": "code",
   "execution_count": 71,
   "metadata": {},
   "outputs": [],
   "source": [
    "from sklearn.model_selection import KFold,cross_val_score, cross_val_predict\n",
    "from sklearn.metrics import accuracy_score\n",
    "import numpy as np\n",
    "\n",
    "k_folds = KFold(n_splits = 5)"
   ]
  },
  {
   "cell_type": "code",
   "execution_count": 74,
   "metadata": {},
   "outputs": [
    {
     "name": "stdout",
     "output_type": "stream",
     "text": [
      "Accuracy score in each iteration: [0.56410256 0.58974359 0.66666667 0.57894737 0.44736842]\n",
      "K-Fold Score: 0.47150259067357514\n"
     ]
    }
   ],
   "source": [
    "lr_score = cross_val_score(lr_scaled,X,y,cv=k_folds)\n",
    "lr_predict = cross_val_predict(lr_scaled,X,y,cv=k_folds)\n",
    "print(\"Accuracy score in each iteration: {}\".format(lr_score))\n",
    "print(\"K-Fold Score: {}\".format(np.mean(lr_predict)))"
   ]
  },
  {
   "cell_type": "code",
   "execution_count": 75,
   "metadata": {},
   "outputs": [
    {
     "name": "stdout",
     "output_type": "stream",
     "text": [
      "Accuracy score in each iteration: [0.58974359 0.53846154 0.58974359 0.52631579 0.42105263]\n",
      "K-Fold Score: 0.5077720207253886\n"
     ]
    }
   ],
   "source": [
    "knn_score = cross_val_score(knn_scaled,X,y,cv=k_folds)\n",
    "knn_predict = cross_val_predict(knn_scaled,X,y,cv=k_folds)\n",
    "print(\"Accuracy score in each iteration: {}\".format(knn_score))\n",
    "print(\"K-Fold Score: {}\".format(np.mean(knn_predict)))"
   ]
  },
  {
   "cell_type": "code",
   "execution_count": 76,
   "metadata": {},
   "outputs": [
    {
     "name": "stdout",
     "output_type": "stream",
     "text": [
      "Accuracy score in each iteration: [0.51282051 0.58974359 0.61538462 0.60526316 0.47368421]\n",
      "K-Fold Score: 0.49222797927461137\n"
     ]
    }
   ],
   "source": [
    "gnb_score = cross_val_score(gnb_scaled,X,y,cv=k_folds)\n",
    "gnb_predict = cross_val_predict(gnb_scaled,X,y,cv=k_folds)\n",
    "print(\"Accuracy score in each iteration: {}\".format(gnb_score))\n",
    "print(\"K-Fold Score: {}\".format(np.mean(gnb_predict)))"
   ]
  },
  {
   "cell_type": "code",
   "execution_count": 77,
   "metadata": {},
   "outputs": [
    {
     "name": "stdout",
     "output_type": "stream",
     "text": [
      "Accuracy score in each iteration: [0.56410256 0.56410256 0.56410256 0.55263158 0.52631579]\n",
      "K-Fold Score: 0.6424870466321243\n"
     ]
    }
   ],
   "source": [
    "svc_score = cross_val_score(svc_scaled,X,y,cv=k_folds)\n",
    "svc_predict = cross_val_predict(svc_scaled,X,y,cv=k_folds)\n",
    "print(\"Accuracy score in each iteration: {}\".format(svc_score))\n",
    "print(\"K-Fold Score: {}\".format(np.mean(svc_predict)))"
   ]
  },
  {
   "cell_type": "code",
   "execution_count": 78,
   "metadata": {},
   "outputs": [
    {
     "name": "stdout",
     "output_type": "stream",
     "text": [
      "Accuracy score in each iteration: [0.61538462 0.61538462 0.51282051 0.60526316 0.47368421]\n",
      "K-Fold Score: 0.5129533678756477\n"
     ]
    }
   ],
   "source": [
    "rf_score = cross_val_score(rf_scaled,X,y,cv=k_folds)\n",
    "rf_predict = cross_val_predict(rf_scaled,X,y,cv=k_folds)\n",
    "print(\"Accuracy score in each iteration: {}\".format(rf_score))\n",
    "print(\"K-Fold Score: {}\".format(np.mean(rf_predict)))"
   ]
  },
  {
   "cell_type": "code",
   "execution_count": 79,
   "metadata": {},
   "outputs": [
    {
     "name": "stdout",
     "output_type": "stream",
     "text": [
      "Accuracy score in each iteration: [0.64102564 0.56410256 0.51282051 0.68421053 0.44736842]\n",
      "K-Fold Score: 0.48186528497409326\n"
     ]
    }
   ],
   "source": [
    "dt_score = cross_val_score(dt_scaled,X,y,cv=k_folds)\n",
    "dt_predict = cross_val_predict(dt_scaled,X,y,cv=k_folds)\n",
    "print(\"Accuracy score in each iteration: {}\".format(dt_score))\n",
    "print(\"K-Fold Score: {}\".format(np.mean(dt_predict)))"
   ]
  },
  {
   "cell_type": "markdown",
   "metadata": {},
   "source": [
    "## Stratified K-Fold"
   ]
  },
  {
   "cell_type": "code",
   "execution_count": 80,
   "metadata": {},
   "outputs": [],
   "source": [
    "from sklearn.model_selection import StratifiedKFold,cross_val_score, cross_val_predict\n",
    "from sklearn.metrics import accuracy_score\n",
    "import numpy as np\n",
    "\n",
    "k_folds = StratifiedKFold(n_splits = 5)"
   ]
  },
  {
   "cell_type": "code",
   "execution_count": 81,
   "metadata": {},
   "outputs": [
    {
     "name": "stdout",
     "output_type": "stream",
     "text": [
      "Accuracy score in each iteration: [0.56410256 0.56410256 0.64102564 0.57894737 0.44736842]\n",
      "K-Fold Score: 0.48186528497409326\n"
     ]
    }
   ],
   "source": [
    "lr_score = cross_val_score(lr_scaled,X,y,cv=k_folds)\n",
    "lr_predict = cross_val_predict(lr_scaled,X,y,cv=k_folds)\n",
    "print(\"Accuracy score in each iteration: {}\".format(lr_score))\n",
    "print(\"K-Fold Score: {}\".format(np.mean(lr_predict)))"
   ]
  },
  {
   "cell_type": "code",
   "execution_count": 82,
   "metadata": {},
   "outputs": [
    {
     "name": "stdout",
     "output_type": "stream",
     "text": [
      "Accuracy score in each iteration: [0.56410256 0.51282051 0.53846154 0.52631579 0.42105263]\n",
      "K-Fold Score: 0.5077720207253886\n"
     ]
    }
   ],
   "source": [
    "knn_score = cross_val_score(knn_scaled,X,y,cv=k_folds)\n",
    "knn_predict = cross_val_predict(knn_scaled,X,y,cv=k_folds)\n",
    "print(\"Accuracy score in each iteration: {}\".format(knn_score))\n",
    "print(\"K-Fold Score: {}\".format(np.mean(knn_predict)))"
   ]
  },
  {
   "cell_type": "code",
   "execution_count": 83,
   "metadata": {},
   "outputs": [
    {
     "name": "stdout",
     "output_type": "stream",
     "text": [
      "Accuracy score in each iteration: [0.56410256 0.64102564 0.56410256 0.60526316 0.47368421]\n",
      "K-Fold Score: 0.48186528497409326\n"
     ]
    }
   ],
   "source": [
    "gnb_score = cross_val_score(gnb_scaled,X,y,cv=k_folds)\n",
    "gnb_predict = cross_val_predict(gnb_scaled,X,y,cv=k_folds)\n",
    "print(\"Accuracy score in each iteration: {}\".format(gnb_score))\n",
    "print(\"K-Fold Score: {}\".format(np.mean(gnb_predict)))"
   ]
  },
  {
   "cell_type": "code",
   "execution_count": 84,
   "metadata": {},
   "outputs": [
    {
     "name": "stdout",
     "output_type": "stream",
     "text": [
      "Accuracy score in each iteration: [0.56410256 0.61538462 0.64102564 0.55263158 0.52631579]\n",
      "K-Fold Score: 0.6476683937823834\n"
     ]
    }
   ],
   "source": [
    "svc_score = cross_val_score(svc_scaled,X,y,cv=k_folds)\n",
    "svc_predict = cross_val_predict(svc_scaled,X,y,cv=k_folds)\n",
    "print(\"Accuracy score in each iteration: {}\".format(svc_score))\n",
    "print(\"K-Fold Score: {}\".format(np.mean(svc_predict)))"
   ]
  },
  {
   "cell_type": "code",
   "execution_count": 85,
   "metadata": {},
   "outputs": [
    {
     "name": "stdout",
     "output_type": "stream",
     "text": [
      "Accuracy score in each iteration: [0.61538462 0.71794872 0.51282051 0.60526316 0.44736842]\n",
      "K-Fold Score: 0.5077720207253886\n"
     ]
    }
   ],
   "source": [
    "rf_score = cross_val_score(rf_scaled,X,y,cv=k_folds)\n",
    "rf_predict = cross_val_predict(rf_scaled,X,y,cv=k_folds)\n",
    "print(\"Accuracy score in each iteration: {}\".format(rf_score))\n",
    "print(\"K-Fold Score: {}\".format(np.mean(rf_predict)))"
   ]
  },
  {
   "cell_type": "code",
   "execution_count": 86,
   "metadata": {},
   "outputs": [
    {
     "name": "stdout",
     "output_type": "stream",
     "text": [
      "Accuracy score in each iteration: [0.61538462 0.56410256 0.51282051 0.65789474 0.42105263]\n",
      "K-Fold Score: 0.45595854922279794\n"
     ]
    }
   ],
   "source": [
    "dt_score = cross_val_score(dt_scaled,X,y,cv=k_folds)\n",
    "dt_predict = cross_val_predict(dt_scaled,X,y,cv=k_folds)\n",
    "print(\"Accuracy score in each iteration: {}\".format(dt_score))\n",
    "print(\"K-Fold Score: {}\".format(np.mean(dt_predict)))"
   ]
  },
  {
   "cell_type": "markdown",
   "metadata": {},
   "source": [
    "# Hyperparameter Tuning"
   ]
  },
  {
   "cell_type": "code",
   "execution_count": 98,
   "metadata": {},
   "outputs": [],
   "source": [
    "from sklearn.model_selection import RandomizedSearchCV, GridSearchCV\n"
   ]
  },
  {
   "cell_type": "code",
   "execution_count": 100,
   "metadata": {},
   "outputs": [],
   "source": [
    "param_grid = {\n",
    "    'n_estimators': [100, 200, 300, 400, 500],  # Number of trees in the forest\n",
    "    'max_depth': [None, 10, 20, 30, 40, 50],    # Maximum depth of the tree\n",
    "    'min_samples_split': [2, 5, 10],            # Minimum number of samples required to split a node\n",
    "    'min_samples_leaf': [1, 2, 4],              # Minimum number of samples required at each leaf node\n",
    "    'max_features': ['auto', 'sqrt', 'log2'],   # Number of features to consider for split\n",
    "    'bootstrap': [True, False]                  # Whether bootstrap samples are used when building trees\n",
    "}"
   ]
  },
  {
   "cell_type": "code",
   "execution_count": 101,
   "metadata": {},
   "outputs": [
    {
     "ename": "AttributeError",
     "evalue": "'GridSearchCV' object has no attribute 'best_params_'",
     "output_type": "error",
     "traceback": [
      "\u001b[1;31m---------------------------------------------------------------------------\u001b[0m",
      "\u001b[1;31mAttributeError\u001b[0m                            Traceback (most recent call last)",
      "\u001b[1;32m<ipython-input-101-65b95df84a8b>\u001b[0m in \u001b[0;36m<module>\u001b[1;34m\u001b[0m\n\u001b[0;32m      1\u001b[0m \u001b[0mgrid_gs\u001b[0m \u001b[1;33m=\u001b[0m \u001b[0mGridSearchCV\u001b[0m\u001b[1;33m(\u001b[0m\u001b[0mrf\u001b[0m\u001b[1;33m,\u001b[0m \u001b[0mparam_grid\u001b[0m\u001b[1;33m)\u001b[0m\u001b[1;33m\u001b[0m\u001b[1;33m\u001b[0m\u001b[0m\n\u001b[0;32m      2\u001b[0m \u001b[0mgrid_gs\u001b[0m\u001b[1;33m.\u001b[0m\u001b[0mfit\u001b[0m\u001b[1;33m(\u001b[0m\u001b[0mX_train\u001b[0m\u001b[1;33m,\u001b[0m \u001b[0my_train\u001b[0m\u001b[1;33m)\u001b[0m\u001b[1;33m\u001b[0m\u001b[1;33m\u001b[0m\u001b[0m\n\u001b[1;32m----> 3\u001b[1;33m \u001b[0mprint\u001b[0m\u001b[1;33m(\u001b[0m\u001b[1;34m\"\\n The best parameters across ALL searched params:\\n\"\u001b[0m\u001b[1;33m,\u001b[0m\u001b[0mgrid_rs\u001b[0m\u001b[1;33m.\u001b[0m\u001b[0mbest_params_\u001b[0m\u001b[1;33m)\u001b[0m\u001b[1;33m\u001b[0m\u001b[1;33m\u001b[0m\u001b[0m\n\u001b[0m",
      "\u001b[1;31mAttributeError\u001b[0m: 'GridSearchCV' object has no attribute 'best_params_'"
     ]
    }
   ],
   "source": [
    "grid_gs = GridSearchCV(rf, param_grid)\n",
    "grid_gs.fit(X_train, y_train)\n",
    "print(\"\\n The best parameters across ALL searched params:\\n\",grid_rs.best_params_)"
   ]
  },
  {
   "cell_type": "code",
   "execution_count": 93,
   "metadata": {},
   "outputs": [
    {
     "name": "stdout",
     "output_type": "stream",
     "text": [
      "-------------------------------------------------------------------------\n",
      "The accuraccy score is: ------>>  0.5641025641025641\n",
      "-------------------------------------------------------------------------\n",
      "The Confusion Matrix is: ------>> \n",
      "[[11  6]\n",
      " [11 11]]\n",
      "-------------------------------------------------------------------------\n",
      "The Classification Report is: ---->> \n",
      "               precision    recall  f1-score   support\n",
      "\n",
      "           0       0.50      0.65      0.56        17\n",
      "           1       0.65      0.50      0.56        22\n",
      "\n",
      "    accuracy                           0.56        39\n",
      "   macro avg       0.57      0.57      0.56        39\n",
      "weighted avg       0.58      0.56      0.56        39\n",
      "\n"
     ]
    }
   ],
   "source": [
    "rf_cv = RandomForestClassifier(n_estimators= 500, min_samples_split= 10, min_samples_leaf= 4, max_features= 'auto', max_depth= 40, bootstrap= True)\n",
    "rf_cv.fit(X_train,y_train)\n",
    "y_pred =rf_cv.predict(X_test)\n",
    "print(\"-------------------------------------------------------------------------\")\n",
    "print(f\"The accuraccy score is: ------>>  {accuracy_score(y_test,y_pred)}\")\n",
    "print(\"-------------------------------------------------------------------------\")\n",
    "print(f\"The Confusion Matrix is: ------>> \\n{confusion_matrix(y_test,y_pred)}\")\n",
    "print(\"-------------------------------------------------------------------------\")\n",
    "print(f\"The Classification Report is: ---->> \\n {classification_report(y_test,y_pred)}\")"
   ]
  },
  {
   "cell_type": "code",
   "execution_count": 95,
   "metadata": {},
   "outputs": [],
   "source": [
    "param_grid = {\n",
    "    'criterion': ['gini', 'entropy', 'log_loss'],  # Function to measure the quality of a split\n",
    "    'splitter': ['best', 'random'],               # Strategy used to split at each node\n",
    "    'max_depth': [None, 10, 20, 30, 40, 50],      # Maximum depth of the tree\n",
    "    'min_samples_split': [2, 5, 10],              # Minimum number of samples required to split an internal node\n",
    "    'min_samples_leaf': [1, 2, 4],                # Minimum number of samples required to be at a leaf node\n",
    "    'max_features': [None, 'auto', 'sqrt', 'log2'], # Number of features to consider when looking for the best split\n",
    "    'max_leaf_nodes': [None, 10, 20, 30],         # Maximum number of leaf nodes\n",
    "    'min_impurity_decrease': [0.0, 0.01, 0.1],    # A node will be split if this split induces a decrease of impurity greater than or equal to this value\n",
    "}"
   ]
  },
  {
   "cell_type": "code",
   "execution_count": 96,
   "metadata": {},
   "outputs": [
    {
     "name": "stdout",
     "output_type": "stream",
     "text": [
      "\n",
      " The best parameters across ALL searched params:\n",
      " {'splitter': 'random', 'min_samples_split': 5, 'min_samples_leaf': 4, 'min_impurity_decrease': 0.01, 'max_leaf_nodes': None, 'max_features': None, 'max_depth': 30, 'criterion': 'gini'}\n"
     ]
    }
   ],
   "source": [
    "grid_rs = RandomizedSearchCV(dt, param_grid)\n",
    "grid_rs.fit(X_train, y_train)\n",
    "print(\"\\n The best parameters across ALL searched params:\\n\",grid_rs.best_params_)"
   ]
  },
  {
   "cell_type": "code",
   "execution_count": 97,
   "metadata": {},
   "outputs": [
    {
     "name": "stdout",
     "output_type": "stream",
     "text": [
      "-------------------------------------------------------------------------\n",
      "The accuraccy score is: ------>>  0.5128205128205128\n",
      "-------------------------------------------------------------------------\n",
      "The Confusion Matrix is: ------>> \n",
      "[[12  5]\n",
      " [14  8]]\n",
      "-------------------------------------------------------------------------\n",
      "The Classification Report is: ---->> \n",
      "               precision    recall  f1-score   support\n",
      "\n",
      "           0       0.46      0.71      0.56        17\n",
      "           1       0.62      0.36      0.46        22\n",
      "\n",
      "    accuracy                           0.51        39\n",
      "   macro avg       0.54      0.53      0.51        39\n",
      "weighted avg       0.55      0.51      0.50        39\n",
      "\n"
     ]
    }
   ],
   "source": [
    "dt_cv = DecisionTreeClassifier(splitter= 'random', min_samples_split= 5, min_samples_leaf= 4, min_impurity_decrease= 0.01, max_leaf_nodes= None, max_features= None, max_depth= 30, criterion= 'gini')\n",
    "dt_cv.fit(X_train,y_train)\n",
    "y_pred =dt_cv.predict(X_test)\n",
    "print(\"-------------------------------------------------------------------------\")\n",
    "print(f\"The accuraccy score is: ------>>  {accuracy_score(y_test,y_pred)}\")\n",
    "print(\"-------------------------------------------------------------------------\")\n",
    "print(f\"The Confusion Matrix is: ------>> \\n{confusion_matrix(y_test,y_pred)}\")\n",
    "print(\"-------------------------------------------------------------------------\")\n",
    "print(f\"The Classification Report is: ---->> \\n {classification_report(y_test,y_pred)}\")"
   ]
  },
  {
   "cell_type": "code",
   "execution_count": null,
   "metadata": {},
   "outputs": [],
   "source": []
  }
 ],
 "metadata": {
  "kernelspec": {
   "display_name": "Python 3 (ipykernel)",
   "language": "python",
   "name": "python3"
  },
  "language_info": {
   "codemirror_mode": {
    "name": "ipython",
    "version": 3
   },
   "file_extension": ".py",
   "mimetype": "text/x-python",
   "name": "python",
   "nbconvert_exporter": "python",
   "pygments_lexer": "ipython3",
   "version": "3.12.2"
  }
 },
 "nbformat": 4,
 "nbformat_minor": 4
}
